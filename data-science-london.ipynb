{
 "cells": [
  {
   "cell_type": "markdown",
   "id": "4e6d9e30",
   "metadata": {
    "papermill": {
     "duration": 0.006719,
     "end_time": "2024-08-14T21:17:24.785762",
     "exception": false,
     "start_time": "2024-08-14T21:17:24.779043",
     "status": "completed"
    },
    "tags": []
   },
   "source": [
    "\n",
    "\n",
    "\n",
    "**Hello, I’m Khaled Ashraf, a Machine Learning Engineer**\n",
    "\n",
    "In this project, I focused on comparing different data scaling techniques using the K-Nearest Neighbors (KNN) classification model. The main goal was to determine which scaling technique yields the best performance for the KNN model. Here’s an overview of the project:\n",
    "\n",
    "1. **Data Loading and Preparation:**\n",
    "   - I loaded the data from CSV files and checked the data to ensure it was loaded correctly.\n",
    "   - The data was processed and prepared for use in machine learning models, including reshaping the target labels to the required format.\n",
    "\n",
    "2. **Application of Scaling Techniques:**\n",
    "   - Three different scaling methods were applied to the dataset:\n",
    "     - **StandardScaler:** Standardizes features by removing the mean and scaling to unit variance.\n",
    "     - **MinMaxScaler:** Scales features to a specific range, usually between 0 and 1.\n",
    "     - **Normalizer:** Scales individual samples to unit norm.\n",
    "   \n",
    "3. **Model Training and Evaluation:**\n",
    "   - The KNN model was trained on the scaled datasets using each scaling technique, and performance was evaluated based on accuracy.\n",
    "   - Results were visualized in a bar plot to compare the accuracy of the KNN model with each scaling technique to identify the best one.\n",
    "\n",
    "4. **Model Comparison:**\n",
    "   - After identifying the best scaling technique, I evaluated several classification models (KNN, SVM, RandomForest, and Logistic Regression) using the best scaler.\n",
    "   - Grid Search with Cross-Validation was used to find the optimal hyperparameters for each model.\n",
    "\n",
    "5. **Final Predictions and Submission:**\n",
    "   - The best model (SVM with RBF kernel) was used to predict labels for the test dataset.\n",
    "   - Results were saved to a CSV file for further analysis or submission.\n",
    "\n",
    "\n"
   ]
  },
  {
   "cell_type": "code",
   "execution_count": 1,
   "id": "2f44c5ed",
   "metadata": {
    "_cell_guid": "c7fc061c-4397-41f5-ac2d-b75763e2d2ec",
    "_uuid": "a4a7888e-f27f-4f4f-bf73-d432f54311e7",
    "collapsed": false,
    "execution": {
     "iopub.execute_input": "2024-08-14T21:17:24.799729Z",
     "iopub.status.busy": "2024-08-14T21:17:24.799374Z",
     "iopub.status.idle": "2024-08-14T21:17:27.177046Z",
     "shell.execute_reply": "2024-08-14T21:17:27.176272Z"
    },
    "jupyter": {
     "outputs_hidden": false
    },
    "papermill": {
     "duration": 2.387233,
     "end_time": "2024-08-14T21:17:27.179297",
     "exception": false,
     "start_time": "2024-08-14T21:17:24.792064",
     "status": "completed"
    },
    "tags": []
   },
   "outputs": [],
   "source": [
    "import os\n",
    "import numpy as np # linear algebra\n",
    "import pandas as pd # data processing, CSV file I/O (e.g. pd.read_csv)\n",
    "import matplotlib.pyplot as plt\n",
    "import seaborn as sns\n",
    "from sklearn.model_selection import cross_val_score, train_test_split\n",
    "from sklearn.preprocessing import StandardScaler, MinMaxScaler, Normalizer\n",
    "from sklearn.neighbors import KNeighborsClassifier\n",
    "from sklearn.metrics import accuracy_score\n",
    "from sklearn.model_selection import GridSearchCV, train_test_split, KFold\n",
    "from sklearn.svm import SVC\n",
    "from sklearn.ensemble import RandomForestClassifier\n",
    "from sklearn.linear_model import LogisticRegression\n",
    "from sklearn.metrics import accuracy_score"
   ]
  },
  {
   "cell_type": "markdown",
   "id": "4653db0f",
   "metadata": {
    "_cell_guid": "43b75503-7144-48d8-989b-0c6d5c93997a",
    "_uuid": "63853126-caf1-4831-b84b-4ea487237656",
    "papermill": {
     "duration": 0.005805,
     "end_time": "2024-08-14T21:17:27.191747",
     "exception": false,
     "start_time": "2024-08-14T21:17:27.185942",
     "status": "completed"
    },
    "tags": []
   },
   "source": [
    "# طباعة المسارات والأسماء للملفات الموجودة\n",
    "# Printing tracks and names for existing files"
   ]
  },
  {
   "cell_type": "code",
   "execution_count": 2,
   "id": "220508fd",
   "metadata": {
    "_cell_guid": "43c92c10-5128-47bb-934d-f3961e5f8ec3",
    "_uuid": "ce511e6e-c011-4cff-aa37-bb666db74fd4",
    "collapsed": false,
    "execution": {
     "iopub.execute_input": "2024-08-14T21:17:27.205300Z",
     "iopub.status.busy": "2024-08-14T21:17:27.204857Z",
     "iopub.status.idle": "2024-08-14T21:17:27.211307Z",
     "shell.execute_reply": "2024-08-14T21:17:27.210244Z"
    },
    "jupyter": {
     "outputs_hidden": false
    },
    "papermill": {
     "duration": 0.015419,
     "end_time": "2024-08-14T21:17:27.213159",
     "exception": false,
     "start_time": "2024-08-14T21:17:27.197740",
     "status": "completed"
    },
    "tags": []
   },
   "outputs": [
    {
     "name": "stdout",
     "output_type": "stream",
     "text": [
      "/kaggle/input/data-science-london-scikit-learn/trainLabels.csv\n",
      "/kaggle/input/data-science-london-scikit-learn/train.csv\n",
      "/kaggle/input/data-science-london-scikit-learn/test.csv\n"
     ]
    }
   ],
   "source": [
    "\n",
    "for dirname, _, filenames in os.walk('/kaggle/input'):\n",
    "    for filename in filenames:\n",
    "        print(os.path.join(dirname, filename))"
   ]
  },
  {
   "cell_type": "code",
   "execution_count": 3,
   "id": "5393fbef",
   "metadata": {
    "_cell_guid": "c5811ba2-2fdc-48e4-b01e-2a8d4bbbe6d7",
    "_kg_hide-output": true,
    "_uuid": "d9b4e712-0f84-48fc-9c35-5408cd8cb7aa",
    "collapsed": false,
    "execution": {
     "iopub.execute_input": "2024-08-14T21:17:27.226573Z",
     "iopub.status.busy": "2024-08-14T21:17:27.226270Z",
     "iopub.status.idle": "2024-08-14T21:17:27.456287Z",
     "shell.execute_reply": "2024-08-14T21:17:27.455388Z"
    },
    "jupyter": {
     "outputs_hidden": false
    },
    "papermill": {
     "duration": 0.23917,
     "end_time": "2024-08-14T21:17:27.458500",
     "exception": false,
     "start_time": "2024-08-14T21:17:27.219330",
     "status": "completed"
    },
    "tags": []
   },
   "outputs": [
    {
     "name": "stdout",
     "output_type": "stream",
     "text": [
      "         0         1         2         3         4         5         6   \\\n",
      "0  0.299403 -1.226624  1.498425 -1.176150  5.289853  0.208297  2.404498   \n",
      "1 -1.174176  0.332157  0.949919 -1.285328  2.199061 -0.151268 -0.427039   \n",
      "2  1.192222 -0.414371  0.067054 -2.233568  3.658881  0.089007  0.203439   \n",
      "3  1.573270 -0.580318 -0.866332 -0.603812  3.125716  0.870321 -0.161992   \n",
      "4 -0.613071 -0.644204  1.112558 -0.032397  3.490142 -0.011935  1.443521   \n",
      "\n",
      "         7         8         9   ...        30        31        32        33  \\\n",
      "0  1.594506 -0.051608  0.663234  ... -0.850465 -0.622990 -1.833057  0.293024   \n",
      "1  2.619246 -0.765884 -0.093780  ... -0.819750  0.012037  2.038836  0.468579   \n",
      "2 -4.219054 -1.184919 -1.240310  ... -0.604501  0.750054 -3.360521  0.856988   \n",
      "3  4.499666  1.038741 -1.092716  ...  1.022959  1.275598 -3.480110 -1.065252   \n",
      "4 -4.290282 -1.761308  0.807652  ...  0.513906 -1.803473  0.518579 -0.205029   \n",
      "\n",
      "         34        35        36        37        38        39  \n",
      "0  3.552681  0.717611  3.305972 -2.715559 -2.682409  0.101050  \n",
      "1 -0.517657  0.422326  0.803699  1.213219  1.382932 -1.817761  \n",
      "2 -2.751451 -1.582735  1.672246  0.656438 -0.932473  2.987436  \n",
      "3  2.153133  1.563539  2.767117  0.215748  0.619645  1.883397  \n",
      "4 -4.744566 -1.520015  1.830651  0.870772 -1.894609  0.408332  \n",
      "\n",
      "[5 rows x 40 columns]\n",
      "   0\n",
      "0  1\n",
      "1  0\n",
      "2  0\n",
      "3  1\n",
      "4  0\n",
      "         0         1         2         3         4         5         6   \\\n",
      "0  2.808909 -0.242894 -0.546421  0.255162  1.749736 -0.030458 -1.322071   \n",
      "1 -0.374101  0.537669  0.081063  0.756773  0.915231  2.557282  3.703187   \n",
      "2 -0.088370  0.154743  0.380716 -1.176126  1.699867 -0.258627 -1.384999   \n",
      "3 -0.685635  0.501283  1.873375  0.215224 -3.983468 -0.103637  4.136113   \n",
      "4  0.350867  0.721897 -0.477104 -1.748776 -2.627405  1.075433  4.954253   \n",
      "\n",
      "         7         8         9   ...        30        31        32        33  \\\n",
      "0  3.578071 -0.667578 -0.884257  ... -0.261688 -0.224375 -1.675606 -0.479584   \n",
      "1  1.673835 -0.764122 -1.228040  ... -0.969463  0.574154 -2.200519 -1.612240   \n",
      "2  1.093584  1.596633  0.230631  ... -0.769885 -0.005143  1.467490  0.483803   \n",
      "3 -0.225431 -1.515015 -1.071763  ...  0.968609  2.386412 -0.131219  0.285646   \n",
      "4 -3.293501 -0.760369  0.204360  ...  0.260553 -2.045650 -2.173227  0.372992   \n",
      "\n",
      "         34        35        36        37        38        39  \n",
      "0 -0.244388 -0.672355  0.517860  0.010665 -0.419214  2.818387  \n",
      "1  0.179031 -2.924596  0.643610 -1.470939 -0.067408 -0.976265  \n",
      "2 -3.542981  0.814561 -1.652948  1.265866 -1.749248  1.773784  \n",
      "3  2.302069  1.255588 -1.563090 -0.125258 -1.030761 -2.945329  \n",
      "4  0.450700 -0.211657  1.301359 -0.522164  2.484883  0.039213  \n",
      "\n",
      "[5 rows x 40 columns]\n"
     ]
    }
   ],
   "source": [
    "\n",
    "# Load the data from the correct paths\n",
    "train = pd.read_csv('/kaggle/input/data-science-london-scikit-learn/train.csv', header=None)\n",
    "trainLabel = pd.read_csv('/kaggle/input/data-science-london-scikit-learn/trainLabels.csv', header=None)\n",
    "test = pd.read_csv('/kaggle/input/data-science-london-scikit-learn/test.csv', header=None)\n",
    "\n",
    "# Display some samples from the data to ensure correct loading\n",
    "print(train.head())\n",
    "print(trainLabel.head())\n",
    "print(test.head())"
   ]
  },
  {
   "cell_type": "code",
   "execution_count": 4,
   "id": "40c7ff38",
   "metadata": {
    "_cell_guid": "207b39a6-2c7e-4297-a102-17d8313b728c",
    "_uuid": "b830a45d-b45e-4e07-be6e-fc431c56e63f",
    "collapsed": false,
    "execution": {
     "iopub.execute_input": "2024-08-14T21:17:27.472893Z",
     "iopub.status.busy": "2024-08-14T21:17:27.472565Z",
     "iopub.status.idle": "2024-08-14T21:17:27.477480Z",
     "shell.execute_reply": "2024-08-14T21:17:27.476633Z"
    },
    "jupyter": {
     "outputs_hidden": false
    },
    "papermill": {
     "duration": 0.014321,
     "end_time": "2024-08-14T21:17:27.479459",
     "exception": false,
     "start_time": "2024-08-14T21:17:27.465138",
     "status": "completed"
    },
    "tags": []
   },
   "outputs": [
    {
     "name": "stdout",
     "output_type": "stream",
     "text": [
      "train shape: (1000, 40)\n",
      "test shape: (9000, 40)\n",
      "trainLabel shape: (1000, 1)\n"
     ]
    }
   ],
   "source": [
    "print('train shape:', train.shape)\n",
    "print('test shape:', test.shape)\n",
    "print('trainLabel shape:', trainLabel.shape)"
   ]
  },
  {
   "cell_type": "code",
   "execution_count": 5,
   "id": "c28c4507",
   "metadata": {
    "_cell_guid": "4ba342fe-c9c6-4c12-a084-48979e024567",
    "_uuid": "66aa82b8-357a-45f0-8ea4-763c94f345fc",
    "collapsed": false,
    "execution": {
     "iopub.execute_input": "2024-08-14T21:17:27.494399Z",
     "iopub.status.busy": "2024-08-14T21:17:27.493662Z",
     "iopub.status.idle": "2024-08-14T21:17:27.517515Z",
     "shell.execute_reply": "2024-08-14T21:17:27.516261Z"
    },
    "jupyter": {
     "outputs_hidden": false
    },
    "papermill": {
     "duration": 0.033574,
     "end_time": "2024-08-14T21:17:27.519618",
     "exception": false,
     "start_time": "2024-08-14T21:17:27.486044",
     "status": "completed"
    },
    "tags": []
   },
   "outputs": [
    {
     "name": "stdout",
     "output_type": "stream",
     "text": [
      "<class 'pandas.core.frame.DataFrame'>\n",
      "RangeIndex: 1000 entries, 0 to 999\n",
      "Data columns (total 40 columns):\n",
      " #   Column  Non-Null Count  Dtype  \n",
      "---  ------  --------------  -----  \n",
      " 0   0       1000 non-null   float64\n",
      " 1   1       1000 non-null   float64\n",
      " 2   2       1000 non-null   float64\n",
      " 3   3       1000 non-null   float64\n",
      " 4   4       1000 non-null   float64\n",
      " 5   5       1000 non-null   float64\n",
      " 6   6       1000 non-null   float64\n",
      " 7   7       1000 non-null   float64\n",
      " 8   8       1000 non-null   float64\n",
      " 9   9       1000 non-null   float64\n",
      " 10  10      1000 non-null   float64\n",
      " 11  11      1000 non-null   float64\n",
      " 12  12      1000 non-null   float64\n",
      " 13  13      1000 non-null   float64\n",
      " 14  14      1000 non-null   float64\n",
      " 15  15      1000 non-null   float64\n",
      " 16  16      1000 non-null   float64\n",
      " 17  17      1000 non-null   float64\n",
      " 18  18      1000 non-null   float64\n",
      " 19  19      1000 non-null   float64\n",
      " 20  20      1000 non-null   float64\n",
      " 21  21      1000 non-null   float64\n",
      " 22  22      1000 non-null   float64\n",
      " 23  23      1000 non-null   float64\n",
      " 24  24      1000 non-null   float64\n",
      " 25  25      1000 non-null   float64\n",
      " 26  26      1000 non-null   float64\n",
      " 27  27      1000 non-null   float64\n",
      " 28  28      1000 non-null   float64\n",
      " 29  29      1000 non-null   float64\n",
      " 30  30      1000 non-null   float64\n",
      " 31  31      1000 non-null   float64\n",
      " 32  32      1000 non-null   float64\n",
      " 33  33      1000 non-null   float64\n",
      " 34  34      1000 non-null   float64\n",
      " 35  35      1000 non-null   float64\n",
      " 36  36      1000 non-null   float64\n",
      " 37  37      1000 non-null   float64\n",
      " 38  38      1000 non-null   float64\n",
      " 39  39      1000 non-null   float64\n",
      "dtypes: float64(40)\n",
      "memory usage: 312.6 KB\n"
     ]
    }
   ],
   "source": [
    "train.info()"
   ]
  },
  {
   "cell_type": "code",
   "execution_count": 6,
   "id": "05e6554a",
   "metadata": {
    "_cell_guid": "153cc865-2900-4ea6-929f-72610bbc8214",
    "_uuid": "97eda77d-57d6-411c-8948-f28b68e40d55",
    "collapsed": false,
    "execution": {
     "iopub.execute_input": "2024-08-14T21:17:27.534704Z",
     "iopub.status.busy": "2024-08-14T21:17:27.534355Z",
     "iopub.status.idle": "2024-08-14T21:17:27.624968Z",
     "shell.execute_reply": "2024-08-14T21:17:27.624094Z"
    },
    "jupyter": {
     "outputs_hidden": false
    },
    "papermill": {
     "duration": 0.100579,
     "end_time": "2024-08-14T21:17:27.627106",
     "exception": false,
     "start_time": "2024-08-14T21:17:27.526527",
     "status": "completed"
    },
    "tags": []
   },
   "outputs": [
    {
     "data": {
      "text/html": [
       "<div>\n",
       "<style scoped>\n",
       "    .dataframe tbody tr th:only-of-type {\n",
       "        vertical-align: middle;\n",
       "    }\n",
       "\n",
       "    .dataframe tbody tr th {\n",
       "        vertical-align: top;\n",
       "    }\n",
       "\n",
       "    .dataframe thead th {\n",
       "        text-align: right;\n",
       "    }\n",
       "</style>\n",
       "<table border=\"1\" class=\"dataframe\">\n",
       "  <thead>\n",
       "    <tr style=\"text-align: right;\">\n",
       "      <th></th>\n",
       "      <th>0</th>\n",
       "      <th>1</th>\n",
       "      <th>2</th>\n",
       "      <th>3</th>\n",
       "      <th>4</th>\n",
       "      <th>5</th>\n",
       "      <th>6</th>\n",
       "      <th>7</th>\n",
       "      <th>8</th>\n",
       "      <th>9</th>\n",
       "      <th>...</th>\n",
       "      <th>30</th>\n",
       "      <th>31</th>\n",
       "      <th>32</th>\n",
       "      <th>33</th>\n",
       "      <th>34</th>\n",
       "      <th>35</th>\n",
       "      <th>36</th>\n",
       "      <th>37</th>\n",
       "      <th>38</th>\n",
       "      <th>39</th>\n",
       "    </tr>\n",
       "  </thead>\n",
       "  <tbody>\n",
       "    <tr>\n",
       "      <th>count</th>\n",
       "      <td>1000.000000</td>\n",
       "      <td>1000.000000</td>\n",
       "      <td>1000.000000</td>\n",
       "      <td>1000.000000</td>\n",
       "      <td>1000.000000</td>\n",
       "      <td>1000.000000</td>\n",
       "      <td>1000.000000</td>\n",
       "      <td>1000.000000</td>\n",
       "      <td>1000.000000</td>\n",
       "      <td>1000.000000</td>\n",
       "      <td>...</td>\n",
       "      <td>1000.000000</td>\n",
       "      <td>1000.000000</td>\n",
       "      <td>1000.000000</td>\n",
       "      <td>1000.000000</td>\n",
       "      <td>1000.000000</td>\n",
       "      <td>1000.000000</td>\n",
       "      <td>1000.000000</td>\n",
       "      <td>1000.000000</td>\n",
       "      <td>1000.000000</td>\n",
       "      <td>1000.000000</td>\n",
       "    </tr>\n",
       "    <tr>\n",
       "      <th>mean</th>\n",
       "      <td>0.025596</td>\n",
       "      <td>-0.024526</td>\n",
       "      <td>-0.024088</td>\n",
       "      <td>-0.002271</td>\n",
       "      <td>1.092329</td>\n",
       "      <td>-0.006250</td>\n",
       "      <td>0.497342</td>\n",
       "      <td>-0.037883</td>\n",
       "      <td>0.026391</td>\n",
       "      <td>-0.003597</td>\n",
       "      <td>...</td>\n",
       "      <td>0.030651</td>\n",
       "      <td>0.022951</td>\n",
       "      <td>-0.542491</td>\n",
       "      <td>-0.011608</td>\n",
       "      <td>-0.483507</td>\n",
       "      <td>0.033371</td>\n",
       "      <td>0.567185</td>\n",
       "      <td>0.006849</td>\n",
       "      <td>-0.892659</td>\n",
       "      <td>0.609451</td>\n",
       "    </tr>\n",
       "    <tr>\n",
       "      <th>std</th>\n",
       "      <td>1.008282</td>\n",
       "      <td>1.016298</td>\n",
       "      <td>0.979109</td>\n",
       "      <td>0.970575</td>\n",
       "      <td>4.538834</td>\n",
       "      <td>0.989128</td>\n",
       "      <td>2.118819</td>\n",
       "      <td>2.232256</td>\n",
       "      <td>1.001064</td>\n",
       "      <td>1.013520</td>\n",
       "      <td>...</td>\n",
       "      <td>1.011645</td>\n",
       "      <td>1.001375</td>\n",
       "      <td>2.239939</td>\n",
       "      <td>1.022456</td>\n",
       "      <td>2.121281</td>\n",
       "      <td>1.007044</td>\n",
       "      <td>2.227876</td>\n",
       "      <td>0.997635</td>\n",
       "      <td>2.022022</td>\n",
       "      <td>2.045439</td>\n",
       "    </tr>\n",
       "    <tr>\n",
       "      <th>min</th>\n",
       "      <td>-3.365711</td>\n",
       "      <td>-3.492086</td>\n",
       "      <td>-2.695602</td>\n",
       "      <td>-3.460471</td>\n",
       "      <td>-16.421901</td>\n",
       "      <td>-3.041250</td>\n",
       "      <td>-7.224761</td>\n",
       "      <td>-6.509084</td>\n",
       "      <td>-3.145588</td>\n",
       "      <td>-2.749812</td>\n",
       "      <td>...</td>\n",
       "      <td>-3.379194</td>\n",
       "      <td>-2.971125</td>\n",
       "      <td>-7.840890</td>\n",
       "      <td>-2.999564</td>\n",
       "      <td>-7.124105</td>\n",
       "      <td>-2.952358</td>\n",
       "      <td>-5.452254</td>\n",
       "      <td>-3.473913</td>\n",
       "      <td>-8.051722</td>\n",
       "      <td>-7.799086</td>\n",
       "    </tr>\n",
       "    <tr>\n",
       "      <th>25%</th>\n",
       "      <td>-0.669010</td>\n",
       "      <td>-0.693937</td>\n",
       "      <td>-0.698830</td>\n",
       "      <td>-0.617557</td>\n",
       "      <td>-1.801997</td>\n",
       "      <td>-0.732265</td>\n",
       "      <td>-0.838619</td>\n",
       "      <td>-1.604037</td>\n",
       "      <td>-0.677562</td>\n",
       "      <td>-0.682220</td>\n",
       "      <td>...</td>\n",
       "      <td>-0.659457</td>\n",
       "      <td>-0.696032</td>\n",
       "      <td>-2.121943</td>\n",
       "      <td>-0.664550</td>\n",
       "      <td>-1.879247</td>\n",
       "      <td>-0.642861</td>\n",
       "      <td>-1.059786</td>\n",
       "      <td>-0.691162</td>\n",
       "      <td>-2.220126</td>\n",
       "      <td>-0.565041</td>\n",
       "    </tr>\n",
       "    <tr>\n",
       "      <th>50%</th>\n",
       "      <td>0.027895</td>\n",
       "      <td>-0.033194</td>\n",
       "      <td>0.008145</td>\n",
       "      <td>0.002327</td>\n",
       "      <td>0.862818</td>\n",
       "      <td>0.027041</td>\n",
       "      <td>0.582321</td>\n",
       "      <td>0.018809</td>\n",
       "      <td>0.022092</td>\n",
       "      <td>-0.036110</td>\n",
       "      <td>...</td>\n",
       "      <td>0.049416</td>\n",
       "      <td>0.049778</td>\n",
       "      <td>-0.568262</td>\n",
       "      <td>-0.028097</td>\n",
       "      <td>-0.493575</td>\n",
       "      <td>0.037732</td>\n",
       "      <td>0.455474</td>\n",
       "      <td>0.038284</td>\n",
       "      <td>-0.855470</td>\n",
       "      <td>0.779944</td>\n",
       "    </tr>\n",
       "    <tr>\n",
       "      <th>75%</th>\n",
       "      <td>0.762520</td>\n",
       "      <td>0.682753</td>\n",
       "      <td>0.661434</td>\n",
       "      <td>0.640743</td>\n",
       "      <td>3.843172</td>\n",
       "      <td>0.671456</td>\n",
       "      <td>1.913664</td>\n",
       "      <td>1.438304</td>\n",
       "      <td>0.741310</td>\n",
       "      <td>0.665364</td>\n",
       "      <td>...</td>\n",
       "      <td>0.747031</td>\n",
       "      <td>0.699917</td>\n",
       "      <td>0.939348</td>\n",
       "      <td>0.651374</td>\n",
       "      <td>1.005795</td>\n",
       "      <td>0.691800</td>\n",
       "      <td>2.122157</td>\n",
       "      <td>0.693535</td>\n",
       "      <td>0.388698</td>\n",
       "      <td>1.992193</td>\n",
       "    </tr>\n",
       "    <tr>\n",
       "      <th>max</th>\n",
       "      <td>3.326246</td>\n",
       "      <td>3.583870</td>\n",
       "      <td>2.546507</td>\n",
       "      <td>3.088738</td>\n",
       "      <td>17.565345</td>\n",
       "      <td>3.102997</td>\n",
       "      <td>7.592666</td>\n",
       "      <td>7.130097</td>\n",
       "      <td>3.145258</td>\n",
       "      <td>3.919426</td>\n",
       "      <td>...</td>\n",
       "      <td>2.844792</td>\n",
       "      <td>3.688047</td>\n",
       "      <td>7.160379</td>\n",
       "      <td>3.353631</td>\n",
       "      <td>6.005818</td>\n",
       "      <td>3.420561</td>\n",
       "      <td>6.603499</td>\n",
       "      <td>3.492548</td>\n",
       "      <td>5.774120</td>\n",
       "      <td>6.803984</td>\n",
       "    </tr>\n",
       "  </tbody>\n",
       "</table>\n",
       "<p>8 rows × 40 columns</p>\n",
       "</div>"
      ],
      "text/plain": [
       "                0            1            2            3            4   \\\n",
       "count  1000.000000  1000.000000  1000.000000  1000.000000  1000.000000   \n",
       "mean      0.025596    -0.024526    -0.024088    -0.002271     1.092329   \n",
       "std       1.008282     1.016298     0.979109     0.970575     4.538834   \n",
       "min      -3.365711    -3.492086    -2.695602    -3.460471   -16.421901   \n",
       "25%      -0.669010    -0.693937    -0.698830    -0.617557    -1.801997   \n",
       "50%       0.027895    -0.033194     0.008145     0.002327     0.862818   \n",
       "75%       0.762520     0.682753     0.661434     0.640743     3.843172   \n",
       "max       3.326246     3.583870     2.546507     3.088738    17.565345   \n",
       "\n",
       "                5            6            7            8            9   ...  \\\n",
       "count  1000.000000  1000.000000  1000.000000  1000.000000  1000.000000  ...   \n",
       "mean     -0.006250     0.497342    -0.037883     0.026391    -0.003597  ...   \n",
       "std       0.989128     2.118819     2.232256     1.001064     1.013520  ...   \n",
       "min      -3.041250    -7.224761    -6.509084    -3.145588    -2.749812  ...   \n",
       "25%      -0.732265    -0.838619    -1.604037    -0.677562    -0.682220  ...   \n",
       "50%       0.027041     0.582321     0.018809     0.022092    -0.036110  ...   \n",
       "75%       0.671456     1.913664     1.438304     0.741310     0.665364  ...   \n",
       "max       3.102997     7.592666     7.130097     3.145258     3.919426  ...   \n",
       "\n",
       "                30           31           32           33           34  \\\n",
       "count  1000.000000  1000.000000  1000.000000  1000.000000  1000.000000   \n",
       "mean      0.030651     0.022951    -0.542491    -0.011608    -0.483507   \n",
       "std       1.011645     1.001375     2.239939     1.022456     2.121281   \n",
       "min      -3.379194    -2.971125    -7.840890    -2.999564    -7.124105   \n",
       "25%      -0.659457    -0.696032    -2.121943    -0.664550    -1.879247   \n",
       "50%       0.049416     0.049778    -0.568262    -0.028097    -0.493575   \n",
       "75%       0.747031     0.699917     0.939348     0.651374     1.005795   \n",
       "max       2.844792     3.688047     7.160379     3.353631     6.005818   \n",
       "\n",
       "                35           36           37           38           39  \n",
       "count  1000.000000  1000.000000  1000.000000  1000.000000  1000.000000  \n",
       "mean      0.033371     0.567185     0.006849    -0.892659     0.609451  \n",
       "std       1.007044     2.227876     0.997635     2.022022     2.045439  \n",
       "min      -2.952358    -5.452254    -3.473913    -8.051722    -7.799086  \n",
       "25%      -0.642861    -1.059786    -0.691162    -2.220126    -0.565041  \n",
       "50%       0.037732     0.455474     0.038284    -0.855470     0.779944  \n",
       "75%       0.691800     2.122157     0.693535     0.388698     1.992193  \n",
       "max       3.420561     6.603499     3.492548     5.774120     6.803984  \n",
       "\n",
       "[8 rows x 40 columns]"
      ]
     },
     "execution_count": 6,
     "metadata": {},
     "output_type": "execute_result"
    }
   ],
   "source": [
    "train.describe()"
   ]
  },
  {
   "cell_type": "markdown",
   "id": "d9b099d4",
   "metadata": {
    "_cell_guid": "fefb0174-0ced-4a83-89e6-6c5c020539ab",
    "_uuid": "c0908a6a-e4e6-4c2e-9dee-e6380cca2348",
    "papermill": {
     "duration": 0.006987,
     "end_time": "2024-08-14T21:17:27.641851",
     "exception": false,
     "start_time": "2024-08-14T21:17:27.634864",
     "status": "completed"
    },
    "tags": []
   },
   "source": [
    "# Convert trainLabel from shape (1000, 1) to shape (1000,) \n",
    "# to match the expected format for machine learning models and functions."
   ]
  },
  {
   "cell_type": "code",
   "execution_count": 7,
   "id": "6c7165db",
   "metadata": {
    "_cell_guid": "a9cb0ba6-b4ff-4b3e-8972-d5505c09d204",
    "_uuid": "797fbefc-6c23-40b2-a877-ab0924ff30fd",
    "collapsed": false,
    "execution": {
     "iopub.execute_input": "2024-08-14T21:17:27.658112Z",
     "iopub.status.busy": "2024-08-14T21:17:27.657761Z",
     "iopub.status.idle": "2024-08-14T21:17:27.666383Z",
     "shell.execute_reply": "2024-08-14T21:17:27.665468Z"
    },
    "jupyter": {
     "outputs_hidden": false
    },
    "papermill": {
     "duration": 0.01907,
     "end_time": "2024-08-14T21:17:27.668395",
     "exception": false,
     "start_time": "2024-08-14T21:17:27.649325",
     "status": "completed"
    },
    "tags": []
   },
   "outputs": [],
   "source": [
    "X, y = train, np.ravel(trainLabel)\n",
    "X_train, X_test, y_train, y_test = train_test_split(X, y, test_size=0.3)"
   ]
  },
  {
   "cell_type": "markdown",
   "id": "4848c979",
   "metadata": {
    "_cell_guid": "b65eaefe-70dc-49b8-9823-a87358fd1d0c",
    "_uuid": "7b5a8f16-7362-473f-953d-00c45cc34a6a",
    "papermill": {
     "duration": 0.007017,
     "end_time": "2024-08-14T21:17:27.682949",
     "exception": false,
     "start_time": "2024-08-14T21:17:27.675932",
     "status": "completed"
    },
    "tags": []
   },
   "source": [
    "### This code allows you to compare different scaling techniques and determine which one works best with your KNN model."
   ]
  },
  {
   "cell_type": "code",
   "execution_count": 8,
   "id": "55159ca2",
   "metadata": {
    "_cell_guid": "2fdfada5-05e6-4669-9c39-8984647103de",
    "_uuid": "c124eed3-0319-480c-abe6-002063a2dd64",
    "collapsed": false,
    "execution": {
     "iopub.execute_input": "2024-08-14T21:17:27.700445Z",
     "iopub.status.busy": "2024-08-14T21:17:27.700073Z",
     "iopub.status.idle": "2024-08-14T21:17:28.034434Z",
     "shell.execute_reply": "2024-08-14T21:17:28.033571Z"
    },
    "jupyter": {
     "outputs_hidden": false
    },
    "papermill": {
     "duration": 0.347026,
     "end_time": "2024-08-14T21:17:28.037258",
     "exception": false,
     "start_time": "2024-08-14T21:17:27.690232",
     "status": "completed"
    },
    "tags": []
   },
   "outputs": [
    {
     "data": {
      "image/png": "[encoded data removed]",
      "text/plain": [
       "<Figure size 1000x600 with 1 Axes>"
      ]
     },
     "metadata": {},
     "output_type": "display_data"
    },
    {
     "name": "stdout",
     "output_type": "stream",
     "text": [
      "Scaler Performance with KNN:\n",
      "StandardScaler: Accuracy = 0.83\n",
      "MinMaxScaler: Accuracy = 0.83\n",
      "Normalizer: Accuracy = 0.89\n",
      "\n",
      "The best scaler is 'Normalizer' with an accuracy of 0.89.\n"
     ]
    }
   ],
   "source": [
    "\n",
    "# List of scalers to be used\n",
    "scalers = {\n",
    "    \"StandardScaler\": StandardScaler(),\n",
    "    \"MinMaxScaler\": MinMaxScaler(),\n",
    "    \"Normalizer\": Normalizer()\n",
    "}\n",
    "\n",
    "# Store results\n",
    "results = {}\n",
    "\n",
    "for name, scaler in scalers.items():\n",
    "    # Apply the scaler\n",
    "    X_train_scaled = scaler.fit_transform(X_train)\n",
    "    X_test_scaled = scaler.transform(X_test)\n",
    "    \n",
    "    # Train KNN model and evaluate performance\n",
    "    modelknn = KNeighborsClassifier(n_neighbors=5)  # Number of neighbors can be adjusted\n",
    "    modelknn.fit(X_train_scaled, y_train)\n",
    "    y_pred = modelknn.predict(X_test_scaled)\n",
    "    accuracy = accuracy_score(y_test, y_pred)\n",
    "    \n",
    "    # Store the results\n",
    "    results[name] = accuracy\n",
    "\n",
    "# Determine the best scaler\n",
    "best_scaler = max(results, key=results.get)\n",
    "best_accuracy = results[best_scaler]\n",
    "\n",
    "# Plot the results\n",
    "plt.figure(figsize=(10, 6))\n",
    "plt.bar(results.keys(), results.values(), color=['blue', 'green', 'red'])\n",
    "plt.xlabel('Scaler')\n",
    "plt.ylabel('Accuracy')\n",
    "plt.title('Comparison of Scalers with KNN')\n",
    "plt.show()\n",
    "\n",
    "# Display results\n",
    "print(\"Scaler Performance with KNN:\")\n",
    "for name, accuracy in results.items():\n",
    "    print(f\"{name}: Accuracy = {accuracy:.2f}\")\n",
    "\n",
    "print(f\"\\nThe best scaler is '{best_scaler}' with an accuracy of {best_accuracy:.2f}.\")"
   ]
  },
  {
   "cell_type": "markdown",
   "id": "cce53d83",
   "metadata": {
    "_cell_guid": "778eb8cd-85f4-49ab-882d-60a3af914d6f",
    "_uuid": "5f5c8c49-995f-4431-ac02-511bd5980f7b",
    "papermill": {
     "duration": 0.00721,
     "end_time": "2024-08-14T21:17:28.051987",
     "exception": false,
     "start_time": "2024-08-14T21:17:28.044777",
     "status": "completed"
    },
    "tags": []
   },
   "source": [
    "### The best scaler is 'Normalizer' ."
   ]
  },
  {
   "cell_type": "code",
   "execution_count": 9,
   "id": "7babf37a",
   "metadata": {
    "_cell_guid": "4b009036-7ff2-4366-ac86-ed0e00d80202",
    "_uuid": "ba453962-7354-428e-9a6f-3ef38b3664dd",
    "collapsed": false,
    "execution": {
     "iopub.execute_input": "2024-08-14T21:17:28.068088Z",
     "iopub.status.busy": "2024-08-14T21:17:28.067757Z",
     "iopub.status.idle": "2024-08-14T21:17:28.078057Z",
     "shell.execute_reply": "2024-08-14T21:17:28.077371Z"
    },
    "jupyter": {
     "outputs_hidden": false
    },
    "papermill": {
     "duration": 0.020846,
     "end_time": "2024-08-14T21:17:28.080149",
     "exception": false,
     "start_time": "2024-08-14T21:17:28.059303",
     "status": "completed"
    },
    "tags": []
   },
   "outputs": [],
   "source": [
    "normalizer = Normalizer()\n",
    "X_train_normalized = normalizer.fit_transform(X_train)\n",
    "X_test_normalized = normalizer.transform(X_test)"
   ]
  },
  {
   "cell_type": "code",
   "execution_count": 10,
   "id": "52b77821",
   "metadata": {
    "_cell_guid": "df0f9499-59cc-4311-a8f0-f9ffd12bf9c1",
    "_uuid": "030b1339-e3ad-4da9-be6c-1fc1350d4fc1",
    "collapsed": false,
    "execution": {
     "iopub.execute_input": "2024-08-14T21:17:28.096443Z",
     "iopub.status.busy": "2024-08-14T21:17:28.096112Z",
     "iopub.status.idle": "2024-08-14T21:17:39.986684Z",
     "shell.execute_reply": "2024-08-14T21:17:39.985206Z"
    },
    "jupyter": {
     "outputs_hidden": false
    },
    "papermill": {
     "duration": 11.903169,
     "end_time": "2024-08-14T21:17:39.990864",
     "exception": false,
     "start_time": "2024-08-14T21:17:28.087695",
     "status": "completed"
    },
    "tags": []
   },
   "outputs": [
    {
     "name": "stdout",
     "output_type": "stream",
     "text": [
      "Training KNN...\n",
      "Training SVM...\n",
      "Training RandomForest...\n",
      "Training LogisticRegression...\n",
      "\n",
      "Model: KNN\n",
      "Best Cross-Validation Score: 0.88\n",
      "Best Parameters: {'n_neighbors': 3, 'weights': 'uniform'}\n",
      "\n",
      "Model: SVM\n",
      "Best Cross-Validation Score: 0.91\n",
      "Best Parameters: {'C': 10, 'kernel': 'rbf'}\n",
      "\n",
      "Model: RandomForest\n",
      "Best Cross-Validation Score: 0.86\n",
      "Best Parameters: {'max_depth': None, 'n_estimators': 150}\n",
      "\n",
      "Model: LogisticRegression\n",
      "Best Cross-Validation Score: 0.80\n",
      "Best Parameters: {'C': 1, 'penalty': 'l2'}\n",
      "\n",
      "Final Test Set Accuracy for Each Model:\n",
      "KNN: 0.87\n",
      "SVM: 0.90\n",
      "RandomForest: 0.85\n",
      "LogisticRegression: 0.82\n"
     ]
    }
   ],
   "source": [
    "\n",
    "# List of classification models to be used\n",
    "models = {\n",
    "    \"KNN\": KNeighborsClassifier(),\n",
    "    \"SVM\": SVC(),\n",
    "    \"RandomForest\": RandomForestClassifier(),\n",
    "    \"LogisticRegression\": LogisticRegression(max_iter=1000)\n",
    "}\n",
    "\n",
    "# Parameters for each model\n",
    "param_grids = {\n",
    "    \"KNN\": {\n",
    "        'n_neighbors': [3, 5, 7, 9],\n",
    "        'weights': ['uniform', 'distance']\n",
    "    },\n",
    "    \"SVM\": {\n",
    "        'C': [0.1, 1, 10],\n",
    "        'kernel': ['linear', 'rbf']\n",
    "    },\n",
    "    \"RandomForest\": {\n",
    "        'n_estimators': [50, 100, 150],\n",
    "        'max_depth': [None, 10, 20, 30]\n",
    "    },\n",
    "    \"LogisticRegression\": {\n",
    "        'C': [0.01, 0.1, 1, 10],\n",
    "        'penalty': ['l2']\n",
    "    }\n",
    "}\n",
    "\n",
    "# Initialize K-Folds cross-validation\n",
    "kf = KFold(n_splits=5, shuffle=True, random_state=42)\n",
    "\n",
    "# Store results\n",
    "model_results = {}\n",
    "\n",
    "for name, model in models.items():\n",
    "    print(f\"Training {name}...\")\n",
    "    grid_search = GridSearchCV(model, param_grids[name], cv=kf, return_train_score=True, n_jobs=-1)\n",
    "    grid_search.fit(X_train_normalized, y_train)\n",
    "    \n",
    "    # Store the best model and its score\n",
    "    model_results[name] = {\n",
    "        \"best_score\": grid_search.best_score_,\n",
    "        \"best_params\": grid_search.best_params_,\n",
    "        \"best_estimator\": grid_search.best_estimator_\n",
    "    }\n",
    "\n",
    "# Display the results\n",
    "for name, result in model_results.items():\n",
    "    print(f\"\\nModel: {name}\")\n",
    "    print(f\"Best Cross-Validation Score: {result['best_score']:.2f}\")\n",
    "    print(f\"Best Parameters: {result['best_params']}\")\n",
    "\n",
    "# Evaluate the best model from each on the test set\n",
    "final_results = {}\n",
    "for name, result in model_results.items():\n",
    "    best_model = result['best_estimator']\n",
    "    y_pred = best_model.predict(X_test_normalized)\n",
    "    test_accuracy = accuracy_score(y_test, y_pred)\n",
    "    final_results[name] = test_accuracy\n",
    "\n",
    "# Display final results on the test set\n",
    "print(\"\\nFinal Test Set Accuracy for Each Model:\")\n",
    "for name, accuracy in final_results.items():\n",
    "    print(f\"{name}: {accuracy:.2f}\")"
   ]
  },
  {
   "cell_type": "code",
   "execution_count": 11,
   "id": "9e545962",
   "metadata": {
    "_cell_guid": "9739adc7-3dea-470f-a39e-2c524565fa0e",
    "_uuid": "9748116a-93b7-483d-959f-78d26473d4ea",
    "collapsed": false,
    "execution": {
     "iopub.execute_input": "2024-08-14T21:17:40.030241Z",
     "iopub.status.busy": "2024-08-14T21:17:40.029475Z",
     "iopub.status.idle": "2024-08-14T21:17:40.049510Z",
     "shell.execute_reply": "2024-08-14T21:17:40.047781Z"
    },
    "jupyter": {
     "outputs_hidden": false
    },
    "papermill": {
     "duration": 0.044803,
     "end_time": "2024-08-14T21:17:40.054407",
     "exception": false,
     "start_time": "2024-08-14T21:17:40.009604",
     "status": "completed"
    },
    "tags": []
   },
   "outputs": [],
   "source": [
    "# Normalizer application on test data\n",
    "# تطبيق Normalizer على بيانات الاختبار\n",
    "normalizer = Normalizer()\n",
    "X_test_normalized = normalizer.fit_transform(X_test)"
   ]
  },
  {
   "cell_type": "code",
   "execution_count": 12,
   "id": "56a03ca9",
   "metadata": {
    "_cell_guid": "5bf9a188-2f69-4b2d-9b53-761457006d86",
    "_uuid": "b1fd43c4-dbdc-410f-8e89-e6c2314f2cc2",
    "collapsed": false,
    "execution": {
     "iopub.execute_input": "2024-08-14T21:17:40.092736Z",
     "iopub.status.busy": "2024-08-14T21:17:40.091862Z",
     "iopub.status.idle": "2024-08-14T21:17:40.137520Z",
     "shell.execute_reply": "2024-08-14T21:17:40.136643Z"
    },
    "jupyter": {
     "outputs_hidden": false
    },
    "papermill": {
     "duration": 0.066738,
     "end_time": "2024-08-14T21:17:40.139897",
     "exception": false,
     "start_time": "2024-08-14T21:17:40.073159",
     "status": "completed"
    },
    "tags": []
   },
   "outputs": [],
   "source": [
    "svm_model = SVC(C=10, kernel='rbf')  \n",
    "svm_model.fit(X_train_normalized, y_train)\n",
    "\n",
    "y_test_pred = svm_model.predict(X_test_normalized)"
   ]
  },
  {
   "cell_type": "code",
   "execution_count": 13,
   "id": "888ea44c",
   "metadata": {
    "_cell_guid": "72cb8985-408f-4519-9696-0e0404adbd07",
    "_uuid": "db42ff3a-405d-4032-a4d7-8b63cd48e906",
    "collapsed": false,
    "execution": {
     "iopub.execute_input": "2024-08-14T21:17:40.158548Z",
     "iopub.status.busy": "2024-08-14T21:17:40.157845Z",
     "iopub.status.idle": "2024-08-14T21:17:40.167144Z",
     "shell.execute_reply": "2024-08-14T21:17:40.166443Z"
    },
    "jupyter": {
     "outputs_hidden": false
    },
    "papermill": {
     "duration": 0.020612,
     "end_time": "2024-08-14T21:17:40.169099",
     "exception": false,
     "start_time": "2024-08-14T21:17:40.148487",
     "status": "completed"
    },
    "tags": []
   },
   "outputs": [],
   "source": [
    "#  DataFrame \n",
    "submission = pd.DataFrame({\n",
    "    'Id': range(1, len(y_test_pred) + 1),  # المعرف يبدأ من 1\n",
    "    'Label': y_test_pred\n",
    "})\n",
    "\n",
    "# save CSV\n",
    "submission.to_csv('submission.csv', index=False)\n",
    "\n",
    "\n",
    "\n"
   ]
  },
  {
   "cell_type": "code",
   "execution_count": 14,
   "id": "4098124e",
   "metadata": {
    "_cell_guid": "cd36dfd8-5981-45ba-9b46-54c9095153e3",
    "_uuid": "95e1283d-059e-4b10-b7d2-3a90478188d7",
    "collapsed": false,
    "execution": {
     "iopub.execute_input": "2024-08-14T21:17:40.186907Z",
     "iopub.status.busy": "2024-08-14T21:17:40.186569Z",
     "iopub.status.idle": "2024-08-14T21:17:40.193203Z",
     "shell.execute_reply": "2024-08-14T21:17:40.192286Z"
    },
    "jupyter": {
     "outputs_hidden": false
    },
    "papermill": {
     "duration": 0.018637,
     "end_time": "2024-08-14T21:17:40.195958",
     "exception": false,
     "start_time": "2024-08-14T21:17:40.177321",
     "status": "completed"
    },
    "tags": []
   },
   "outputs": [
    {
     "name": "stdout",
     "output_type": "stream",
     "text": [
      "   Id  Label\n",
      "0   1      0\n",
      "1   2      1\n",
      "2   3      0\n",
      "3   4      1\n",
      "4   5      0\n",
      "5   6      0\n",
      "6   7      1\n",
      "7   8      1\n",
      "8   9      1\n",
      "9  10      1\n"
     ]
    }
   ],
   "source": [
    "print(submission.head(10))"
   ]
  }
 ],
 "metadata": {
  "kaggle": {
   "accelerator": "gpu",
   "dataSources": [
    {
     "databundleVersionId": 31210,
     "sourceId": 3428,
     "sourceType": "competition"
    }
   ],
   "dockerImageVersionId": 30747,
   "isGpuEnabled": true,
   "isInternetEnabled": true,
   "language": "python",
   "sourceType": "notebook"
  },
  "kernelspec": {
   "display_name": "Python 3",
   "language": "python",
   "name": "python3"
  },
  "language_info": {
   "codemirror_mode": {
    "name": "ipython",
    "version": 3
   },
   "file_extension": ".py",
   "mimetype": "text/x-python",
   "name": "python",
   "nbconvert_exporter": "python",
   "pygments_lexer": "ipython3",
   "version": "3.10.13"
  },
  "papermill": {
   "default_parameters": {},
   "duration": 20.937444,
   "end_time": "2024-08-14T21:17:42.823927",
   "environment_variables": {},
   "exception": null,
   "input_path": "__notebook__.ipynb",
   "output_path": "__notebook__.ipynb",
   "parameters": {},
   "start_time": "2024-08-14T21:17:21.886483",
   "version": "2.5.0"
  }
 },
 "nbformat": 4,
 "nbformat_minor": 5
}
